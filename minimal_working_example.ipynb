{
 "cells": [
  {
   "cell_type": "code",
   "execution_count": 13,
   "outputs": [],
   "source": [
    "# this is required ONLY in a Jupyter Notebook\n",
    "# otherwise you'll get a \"RuntimeError: Cannot run the event loop while another loop is running\"\n",
    "# omit this import and apply in the real code\n",
    "import nest_asyncio\n",
    "\n",
    "nest_asyncio.apply()  # can be omitted outside jupyter"
   ],
   "metadata": {
    "collapsed": false,
    "pycharm": {
     "name": "#%%\n"
    }
   }
  },
  {
   "cell_type": "code",
   "execution_count": 14,
   "outputs": [
    {
     "name": "stdout",
     "output_type": "stream",
     "text": [
      "Tree(Token('RULE', 'ahb_expression'), [Tree('single_requirement_indicator_expression', [Token('MODAL_MARK', 'Muss'), Token('CONDITION_EXPRESSION', ' [2] U ([3] O [4])[901] U [555]')])])\n"
     ]
    },
    {
     "data": {
      "text/plain": "{'children': [{'token': None,\n   'tree': {'children': [{'token': {'type': 'MODAL_MARK', 'value': 'Muss'},\n      'tree': None},\n     {'token': {'type': 'CONDITION_EXPRESSION',\n       'value': ' [2] U ([3] O [4])[901] U [555]'},\n      'tree': None}],\n    'type': 'single_requirement_indicator_expression'}}],\n 'type': 'ahb_expression'}"
     },
     "execution_count": 14,
     "metadata": {},
     "output_type": "execute_result"
    }
   ],
   "source": [
    "from ahbicht.expressions.ahb_expression_parser import parse_ahb_expression_to_single_requirement_indicator_expressions\n",
    "\n",
    "tree = parse_ahb_expression_to_single_requirement_indicator_expressions(\n",
    "    \"Muss [2] U ([3] O [4])[901] U [555]\"\n",
    ")  # the expression as you get it from the AHB\n",
    "print(tree)  # The tree is a data structure that represents the expression\n",
    "\n",
    "# you may also serialize it as JSON:\n",
    "from ahbicht.json_serialization.tree_schema import TreeSchema\n",
    "\n",
    "TreeSchema().dump(tree)"
   ],
   "metadata": {
    "collapsed": false,
    "pycharm": {
     "name": "#%%\n"
    }
   }
  },
  {
   "cell_type": "code",
   "execution_count": 15,
   "id": "33c9c381-49b6-44ac-a718-fa28dc522571",
   "metadata": {},
   "outputs": [],
   "source": [
    "# The condition expression can be parsed separately and be serialized as a separate tree that contains and_compositions, or_compositions and alike."
   ]
  },
  {
   "cell_type": "code",
   "execution_count": 16,
   "outputs": [
    {
     "data": {
      "text/plain": "{'children': [{'token': None,\n   'tree': {'children': [{'token': {'type': 'INT', 'value': '2'},\n      'tree': None}],\n    'type': 'condition_key'}},\n  {'token': None,\n   'tree': {'children': [{'token': None,\n      'tree': {'children': [{'token': None,\n         'tree': {'children': [{'token': None,\n            'tree': {'children': [{'token': {'type': 'INT', 'value': '3'},\n               'tree': None}],\n             'type': 'condition_key'}},\n           {'token': None,\n            'tree': {'children': [{'token': {'type': 'INT', 'value': '4'},\n               'tree': None}],\n             'type': 'condition_key'}}],\n          'type': 'or_composition'}},\n        {'token': None,\n         'tree': {'children': [{'token': {'type': 'INT', 'value': '901'},\n            'tree': None}],\n          'type': 'condition_key'}}],\n       'type': 'then_also_composition'}},\n     {'token': None,\n      'tree': {'children': [{'token': {'type': 'INT', 'value': '555'},\n         'tree': None}],\n       'type': 'condition_key'}}],\n    'type': 'and_composition'}}],\n 'type': 'and_composition'}"
     },
     "execution_count": 16,
     "metadata": {},
     "output_type": "execute_result"
    }
   ],
   "source": [
    "from ahbicht.expressions.condition_expression_parser import parse_condition_expression_to_tree\n",
    "\n",
    "condition_tree = parse_condition_expression_to_tree(\" [2] U ([3] O [4])[901] U [555]\")\n",
    "TreeSchema().dump(condition_tree)\n",
    "# we're working on parsing both modal marks and conditions in just one method, this is already done in the background."
   ],
   "metadata": {
    "collapsed": false,
    "pycharm": {
     "name": "#%%\n"
    }
   }
  },
  {
   "cell_type": "code",
   "execution_count": 17,
   "outputs": [],
   "source": [
    "# As written in the README, ahbicht will _not_ do any content evaluation for you.\n",
    "# You'll need to write your own Evaluator classes for:\n",
    "# 1. Requirement Constraints (RC) for conditions which are fulfilled/unfulfilled/unknown\n",
    "# 2. Format Constraints (FC) which describe that data must obey a specified format, e.g. number of post decimal places, MaLo-ID etc.\n",
    "# 3. Hints: \"Hinweise\", plain text which is passed through"
   ],
   "metadata": {
    "collapsed": false,
    "pycharm": {
     "name": "#%%\n"
    }
   }
  },
  {
   "cell_type": "code",
   "execution_count": 18,
   "outputs": [],
   "source": [
    "from ahbicht.content_evaluation.rc_evaluators import RcEvaluator\n",
    "\n",
    "from ahbicht.edifact import EdifactFormat, EdifactFormatVersion\n",
    "from ahbicht.content_evaluation.evaluationdatatypes import EvaluationContext, EvaluatableData\n",
    "\n",
    "\n",
    "class MyRequirementConstraintEvaluator(RcEvaluator):\n",
    "    \"\"\"\n",
    "    A Requirement Constraint (RC) Evaluator answers questions of the kind: \"Is the condition <condition_number> fulfilled?\"\n",
    "    \"\"\"\n",
    "\n",
    "    def _get_default_context(self) -> EvaluationContext:\n",
    "        # implement a default context here\n",
    "        return EvaluationContext(scope=None)\n",
    "\n",
    "    # in the AHBs the conditions are unique per EDIFACT format / Message Implementation Guide\n",
    "    edifact_format = EdifactFormat.UTILMD\n",
    "    edifact_format_version = EdifactFormatVersion.FV2104  # valid since 2021-04-01\n",
    "\n",
    "    def __init__(self, evaluatable_data):\n",
    "        super().__init__(evaluatable_data=evaluatable_data)\n",
    "\n",
    "    async def evaluate_2(self, context: EvaluationContext):\n",
    "        # insert your own logic here\n",
    "        return self.evaluatable_data.edifact_seed[\"2\"]\n",
    "\n",
    "    async def evaluate_3(self, context: EvaluationContext):\n",
    "        # insert your own logic here\n",
    "        return self.evaluatable_data.edifact_seed[\"3\"]\n",
    "\n",
    "    async def evaluate_4(self, context: EvaluationContext):\n",
    "        # insert your own logic here\n",
    "        return self.evaluatable_data.edifact_seed[\"4\"]"
   ],
   "metadata": {
    "collapsed": false,
    "pycharm": {
     "name": "#%%\n"
    }
   }
  },
  {
   "cell_type": "code",
   "execution_count": 19,
   "outputs": [],
   "source": [
    "from ahbicht.expressions.condition_nodes import ConditionFulfilledValue, EvaluatedFormatConstraint\n",
    "from ahbicht.content_evaluation.fc_evaluators import FcEvaluator\n",
    "\n",
    "\n",
    "class MyFormatConstraintEvaluator(FcEvaluator):\n",
    "    \"\"\"\n",
    "    Format Constraint (FC) Evaluator answers questions of the kind: \"Does the data provided obey format specified in condition <condition_number>?\"\n",
    "    \"\"\"\n",
    "\n",
    "    edifact_format = EdifactFormat.UTILMD\n",
    "    edifact_format_version = EdifactFormatVersion.FV2104  # valid since 2021-04-01\n",
    "\n",
    "    async def evaluate_901(self, entered_input):\n",
    "        \"\"\"\n",
    "        This method checks if the entered_input fulfills the constraints of condition 901.\n",
    "        This could be f.e. if entered_input is a valid OBIS, a valid Marktlokations-ID etc.\n",
    "        For this MWE we check if the input is all lower case.\n",
    "        \"\"\"\n",
    "        # insert your own logic here\n",
    "        if entered_input[\"data\"].lower() == entered_input[\"data\"]:\n",
    "            return EvaluatedFormatConstraint(True, None)\n",
    "        return EvaluatedFormatConstraint(\n",
    "            False, f\"The input '{entered_input['data']}' does not obey format constraint 901.\"\n",
    "        )"
   ],
   "metadata": {
    "collapsed": false,
    "pycharm": {
     "name": "#%%\n"
    }
   }
  },
  {
   "cell_type": "code",
   "execution_count": 20,
   "outputs": [],
   "source": [
    "from ahbicht.expressions.hints_provider import HintsProvider\n",
    "\n",
    "\n",
    "class MyHintsProvider(HintsProvider):\n",
    "    \"\"\"\n",
    "    A Hints Provider provides plain text for given \"condition\" numbers.\n",
    "    \"\"\"\n",
    "\n",
    "    edifact_format = EdifactFormat.UTILMD\n",
    "    edifact_format_version = EdifactFormatVersion.FV2104\n",
    "\n",
    "    async def get_hint_text(self, condition_key: str):\n",
    "        # implement your own logic here\n",
    "        if condition_key == \"555\":\n",
    "            return \"Hinweis 555 applies.\"\n",
    "        return None"
   ],
   "metadata": {
    "collapsed": false,
    "pycharm": {
     "name": "#%%\n"
    }
   }
  },
  {
   "cell_type": "code",
   "execution_count": 21,
   "outputs": [],
   "source": [
    "# we'll just provide some hard coded data here for demonstration purposes\n",
    "hardcoded_content_evaluations = {\n",
    "    \"2\": ConditionFulfilledValue.FULFILLED,\n",
    "    \"3\": ConditionFulfilledValue.UNFULFILLED,\n",
    "    \"4\": ConditionFulfilledValue.FULFILLED,\n",
    "    \"data\": \"some lower case stuff which will be checked in 901\",\n",
    "}\n",
    "\n",
    "my_evaluatable_data = EvaluatableData(\n",
    "    edifact_seed=hardcoded_content_evaluations\n",
    ")  # this is the data that, in real life, contain the content of the edifact message"
   ],
   "metadata": {
    "collapsed": false,
    "pycharm": {
     "name": "#%%\n"
    }
   }
  },
  {
   "cell_type": "code",
   "execution_count": 22,
   "outputs": [],
   "source": [
    "import inject\n",
    "from ahbicht.expressions.ahb_expression_evaluation import evaluate_ahb_expression_tree\n",
    "\n",
    "inject.clear_and_configure(\n",
    "    lambda binder: binder.bind(RcEvaluator, MyRequirementConstraintEvaluator(evaluatable_data=my_evaluatable_data))\n",
    "    .bind(FcEvaluator, MyFormatConstraintEvaluator())\n",
    "    .bind(HintsProvider, MyHintsProvider())\n",
    ")\n",
    "\n",
    "# But later on we can provide AHBicht with the content evaluation results ...\n",
    "# Providing the content evaluation results to find out, if a line in the AHB is actually required,\n",
    "# is called expression evaluation\n",
    "expression_evaluation_result = evaluate_ahb_expression_tree(tree, entered_input=hardcoded_content_evaluations)"
   ],
   "metadata": {
    "collapsed": false,
    "pycharm": {
     "name": "#%%\n"
    }
   }
  },
  {
   "cell_type": "code",
   "execution_count": 23,
   "outputs": [
    {
     "name": "stdout",
     "output_type": "stream",
     "text": [
      "It's actually a 'Muss'field.\n",
      "The format constraint is fulfilled => Data are ok.\n",
      "Please note the following hint: \"Hinweis 555 applies.\"\n"
     ]
    }
   ],
   "source": [
    "print(f\"It's actually a '{expression_evaluation_result.requirement_indicator}'field.\")\n",
    "if expression_evaluation_result.format_constraint_evaluation_result.format_constraints_fulfilled:\n",
    "    print(f\"The format constraint is fulfilled => Data are ok.\")\n",
    "else:\n",
    "    print(\n",
    "        f'The format constraint is _not_ fulfilled: \"{expression_evaluation_result.format_constraint_evaluation_result.error_message}\"'\n",
    "    )\n",
    "print(\n",
    "    f'Please note the following hint: \"{expression_evaluation_result.requirement_constraint_evaluation_result.hints}\"'\n",
    ")"
   ],
   "metadata": {
    "collapsed": false,
    "pycharm": {
     "name": "#%%\n"
    }
   }
  },
  {
   "cell_type": "code",
   "execution_count": 24,
   "outputs": [
    {
     "name": "stdout",
     "output_type": "stream",
     "text": [
      "AhbExpressionEvaluationResult(requirement_indicator='Muss', requirement_constraint_evaluation_result=RequirementConstraintEvaluationResult(requirement_constraints_fulfilled=True, requirement_is_conditional=True, format_constraints_expression='[901]', hints='foo'), format_constraint_evaluation_result=FormatConstraintEvaluationResult(format_constraints_fulfilled=True, error_message=None))\n"
     ]
    }
   ],
   "source": [
    "from ahbicht.content_evaluation.evaluator_factory import create_and_inject_hardcoded_evaluators\n",
    "from ahbicht.content_evaluation.content_evaluation_result import ContentEvaluationResult\n",
    "\n",
    "inject.clear()\n",
    "# If you're only dealing with hard coded content evaluation results, there is a short cut to evaluate a modal mark expression:\n",
    "# 1. put the hard coded results into a content evaluation result:\n",
    "content_evaluation_result = ContentEvaluationResult(\n",
    "    hints={\"555\": \"foo\"},\n",
    "    format_constraints={\n",
    "        \"901\": EvaluatedFormatConstraint(format_constraint_fulfilled=True, error_message=None),\n",
    "    },\n",
    "    requirement_constraints={\n",
    "        \"2\": ConditionFulfilledValue.FULFILLED,\n",
    "        \"3\": ConditionFulfilledValue.UNFULFILLED,\n",
    "        \"4\": ConditionFulfilledValue.FULFILLED,\n",
    "    },\n",
    ")\n",
    "create_and_inject_hardcoded_evaluators(content_evaluation_result)\n",
    "evaluated = evaluate_ahb_expression_tree(tree, entered_input=\"\")\n",
    "print(evaluated)"
   ],
   "metadata": {
    "collapsed": false,
    "pycharm": {
     "name": "#%%\n"
    }
   }
  }
 ],
 "metadata": {
  "kernelspec": {
   "display_name": "Python 3 (ipykernel)",
   "language": "python",
   "name": "python3"
  },
  "language_info": {
   "codemirror_mode": {
    "name": "ipython",
    "version": 3
   },
   "file_extension": ".py",
   "mimetype": "text/x-python",
   "name": "python",
   "nbconvert_exporter": "python",
   "pygments_lexer": "ipython3",
   "version": "3.9.5"
  }
 },
 "nbformat": 4,
 "nbformat_minor": 5
}
