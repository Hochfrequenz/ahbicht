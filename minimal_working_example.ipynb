{
 "cells": [
  {
   "cell_type": "code",
   "execution_count": 70,
   "id": "0a002d5d-36e0-416e-9d12-f36ec026f531",
   "metadata": {},
   "outputs": [],
   "source": [
    "import inject\n",
    "\n",
    "from ahbicht.content_evaluation.evaluationdatatypes import EvaluationContext, EvaluatableData\n",
    "from ahbicht.content_evaluation.fc_evaluators import FcEvaluator\n",
    "from ahbicht.content_evaluation.rc_evaluators import RcEvaluator\n",
    "from ahbicht.edifact import EdifactFormat, EdifactFormatVersion\n",
    "from ahbicht.expressions.ahb_expression_evaluation import evaluate_ahb_expression_tree\n",
    "from ahbicht.expressions.ahb_expression_parser import parse_ahb_expression_to_single_requirement_indicator_expressions\n",
    "from ahbicht.expressions.condition_nodes import ConditionFulfilledValue, EvaluatedFormatConstraint"
   ]
  },
  {
   "cell_type": "code",
   "execution_count": 71,
   "id": "40fc0b2d-2289-4592-a6c2-0982cd9dd959",
   "metadata": {},
   "outputs": [],
   "source": [
    "from ahbicht.expressions.hints_provider import HintsProvider\n",
    "\n",
    "tree = parse_ahb_expression_to_single_requirement_indicator_expressions(\n",
    "    \"Muss [4] U ([5] O [6])[901]\")  # the expression as you get it from the AHB"
   ]
  },
  {
   "cell_type": "code",
   "execution_count": 72,
   "id": "7ea911e8-cbfc-498a-b052-f3460bca0800",
   "metadata": {},
   "outputs": [
    {
     "name": "stdout",
     "output_type": "stream",
     "text": [
      "Tree('ahb_expression', [Tree('single_requirement_indicator_expression', [Token('MODAL_MARK', 'Muss'), Token('CONDITION_EXPRESSION', ' [4] U ([5] O [6])[901]')])])\n"
     ]
    }
   ],
   "source": [
    "print(tree)  # The tree is a data structure that represents the expression"
   ]
  },
  {
   "cell_type": "code",
   "execution_count": 73,
   "id": "33c9c381-49b6-44ac-a718-fa28dc522571",
   "metadata": {},
   "outputs": [
    {
     "ename": "ConstructorTypeError",
     "evalue": "<class 'ahbicht.expressions.hints_provider.HintsProvider'> raised an error: __init__() missing 2 required positional arguments: 'edifact_format' and 'edifact_format_version'",
     "output_type": "error",
     "traceback": [
      "\u001B[1;31m---------------------------------------------------------------------------\u001B[0m",
      "\u001B[1;31mVisitError\u001B[0m                                Traceback (most recent call last)",
      "\u001B[1;32mC:\\github\\ahb_condition_expression_parser\\src\\ahbicht\\expressions\\ahb_expression_evaluation.py\u001B[0m in \u001B[0;36mevaluate_ahb_expression_tree\u001B[1;34m(parsed_tree, entered_input)\u001B[0m\n\u001B[0;32m    126\u001B[0m     \u001B[1;32mtry\u001B[0m\u001B[1;33m:\u001B[0m\u001B[1;33m\u001B[0m\u001B[1;33m\u001B[0m\u001B[0m\n\u001B[1;32m--> 127\u001B[1;33m         \u001B[0mresult\u001B[0m \u001B[1;33m=\u001B[0m \u001B[0mAhbExpressionTransformer\u001B[0m\u001B[1;33m(\u001B[0m\u001B[0mentered_input\u001B[0m\u001B[1;33m)\u001B[0m\u001B[1;33m.\u001B[0m\u001B[0mtransform\u001B[0m\u001B[1;33m(\u001B[0m\u001B[0mparsed_tree\u001B[0m\u001B[1;33m)\u001B[0m\u001B[1;33m\u001B[0m\u001B[1;33m\u001B[0m\u001B[0m\n\u001B[0m\u001B[0;32m    128\u001B[0m     \u001B[1;32mexcept\u001B[0m \u001B[0mVisitError\u001B[0m \u001B[1;32mas\u001B[0m \u001B[0mvisit_err\u001B[0m\u001B[1;33m:\u001B[0m\u001B[1;33m\u001B[0m\u001B[1;33m\u001B[0m\u001B[0m\n",
      "\u001B[1;32mc:\\github\\ahb_condition_expression_parser\\.tox\\dev\\lib\\site-packages\\lark\\visitors.py\u001B[0m in \u001B[0;36mtransform\u001B[1;34m(self, tree)\u001B[0m\n\u001B[0;32m    129\u001B[0m         \u001B[1;34m\"Transform the given tree, and return the final result\"\u001B[0m\u001B[1;33m\u001B[0m\u001B[1;33m\u001B[0m\u001B[0m\n\u001B[1;32m--> 130\u001B[1;33m         \u001B[1;32mreturn\u001B[0m \u001B[0mself\u001B[0m\u001B[1;33m.\u001B[0m\u001B[0m_transform_tree\u001B[0m\u001B[1;33m(\u001B[0m\u001B[0mtree\u001B[0m\u001B[1;33m)\u001B[0m\u001B[1;33m\u001B[0m\u001B[1;33m\u001B[0m\u001B[0m\n\u001B[0m\u001B[0;32m    131\u001B[0m \u001B[1;33m\u001B[0m\u001B[0m\n",
      "\u001B[1;32mc:\\github\\ahb_condition_expression_parser\\.tox\\dev\\lib\\site-packages\\lark\\visitors.py\u001B[0m in \u001B[0;36m_transform_tree\u001B[1;34m(self, tree)\u001B[0m\n\u001B[0;32m    124\u001B[0m     \u001B[1;32mdef\u001B[0m \u001B[0m_transform_tree\u001B[0m\u001B[1;33m(\u001B[0m\u001B[0mself\u001B[0m\u001B[1;33m,\u001B[0m \u001B[0mtree\u001B[0m\u001B[1;33m)\u001B[0m\u001B[1;33m:\u001B[0m\u001B[1;33m\u001B[0m\u001B[1;33m\u001B[0m\u001B[0m\n\u001B[1;32m--> 125\u001B[1;33m         \u001B[0mchildren\u001B[0m \u001B[1;33m=\u001B[0m \u001B[0mlist\u001B[0m\u001B[1;33m(\u001B[0m\u001B[0mself\u001B[0m\u001B[1;33m.\u001B[0m\u001B[0m_transform_children\u001B[0m\u001B[1;33m(\u001B[0m\u001B[0mtree\u001B[0m\u001B[1;33m.\u001B[0m\u001B[0mchildren\u001B[0m\u001B[1;33m)\u001B[0m\u001B[1;33m)\u001B[0m\u001B[1;33m\u001B[0m\u001B[1;33m\u001B[0m\u001B[0m\n\u001B[0m\u001B[0;32m    126\u001B[0m         \u001B[1;32mreturn\u001B[0m \u001B[0mself\u001B[0m\u001B[1;33m.\u001B[0m\u001B[0m_call_userfunc\u001B[0m\u001B[1;33m(\u001B[0m\u001B[0mtree\u001B[0m\u001B[1;33m,\u001B[0m \u001B[0mchildren\u001B[0m\u001B[1;33m)\u001B[0m\u001B[1;33m\u001B[0m\u001B[1;33m\u001B[0m\u001B[0m\n",
      "\u001B[1;32mc:\\github\\ahb_condition_expression_parser\\.tox\\dev\\lib\\site-packages\\lark\\visitors.py\u001B[0m in \u001B[0;36m_transform_children\u001B[1;34m(self, children)\u001B[0m\n\u001B[0;32m    115\u001B[0m                 \u001B[1;32mif\u001B[0m \u001B[0misinstance\u001B[0m\u001B[1;33m(\u001B[0m\u001B[0mc\u001B[0m\u001B[1;33m,\u001B[0m \u001B[0mTree\u001B[0m\u001B[1;33m)\u001B[0m\u001B[1;33m:\u001B[0m\u001B[1;33m\u001B[0m\u001B[1;33m\u001B[0m\u001B[0m\n\u001B[1;32m--> 116\u001B[1;33m                     \u001B[1;32myield\u001B[0m \u001B[0mself\u001B[0m\u001B[1;33m.\u001B[0m\u001B[0m_transform_tree\u001B[0m\u001B[1;33m(\u001B[0m\u001B[0mc\u001B[0m\u001B[1;33m)\u001B[0m\u001B[1;33m\u001B[0m\u001B[1;33m\u001B[0m\u001B[0m\n\u001B[0m\u001B[0;32m    117\u001B[0m                 \u001B[1;32melif\u001B[0m \u001B[0mself\u001B[0m\u001B[1;33m.\u001B[0m\u001B[0m__visit_tokens__\u001B[0m \u001B[1;32mand\u001B[0m \u001B[0misinstance\u001B[0m\u001B[1;33m(\u001B[0m\u001B[0mc\u001B[0m\u001B[1;33m,\u001B[0m \u001B[0mToken\u001B[0m\u001B[1;33m)\u001B[0m\u001B[1;33m:\u001B[0m\u001B[1;33m\u001B[0m\u001B[1;33m\u001B[0m\u001B[0m\n",
      "\u001B[1;32mc:\\github\\ahb_condition_expression_parser\\.tox\\dev\\lib\\site-packages\\lark\\visitors.py\u001B[0m in \u001B[0;36m_transform_tree\u001B[1;34m(self, tree)\u001B[0m\n\u001B[0;32m    125\u001B[0m         \u001B[0mchildren\u001B[0m \u001B[1;33m=\u001B[0m \u001B[0mlist\u001B[0m\u001B[1;33m(\u001B[0m\u001B[0mself\u001B[0m\u001B[1;33m.\u001B[0m\u001B[0m_transform_children\u001B[0m\u001B[1;33m(\u001B[0m\u001B[0mtree\u001B[0m\u001B[1;33m.\u001B[0m\u001B[0mchildren\u001B[0m\u001B[1;33m)\u001B[0m\u001B[1;33m)\u001B[0m\u001B[1;33m\u001B[0m\u001B[1;33m\u001B[0m\u001B[0m\n\u001B[1;32m--> 126\u001B[1;33m         \u001B[1;32mreturn\u001B[0m \u001B[0mself\u001B[0m\u001B[1;33m.\u001B[0m\u001B[0m_call_userfunc\u001B[0m\u001B[1;33m(\u001B[0m\u001B[0mtree\u001B[0m\u001B[1;33m,\u001B[0m \u001B[0mchildren\u001B[0m\u001B[1;33m)\u001B[0m\u001B[1;33m\u001B[0m\u001B[1;33m\u001B[0m\u001B[0m\n\u001B[0m\u001B[0;32m    127\u001B[0m \u001B[1;33m\u001B[0m\u001B[0m\n",
      "\u001B[1;32mc:\\github\\ahb_condition_expression_parser\\.tox\\dev\\lib\\site-packages\\lark\\visitors.py\u001B[0m in \u001B[0;36m_call_userfunc\u001B[1;34m(self, tree, new_children)\u001B[0m\n\u001B[0;32m     96\u001B[0m             \u001B[1;32mexcept\u001B[0m \u001B[0mException\u001B[0m \u001B[1;32mas\u001B[0m \u001B[0me\u001B[0m\u001B[1;33m:\u001B[0m\u001B[1;33m\u001B[0m\u001B[1;33m\u001B[0m\u001B[0m\n\u001B[1;32m---> 97\u001B[1;33m                 \u001B[1;32mraise\u001B[0m \u001B[0mVisitError\u001B[0m\u001B[1;33m(\u001B[0m\u001B[0mtree\u001B[0m\u001B[1;33m.\u001B[0m\u001B[0mdata\u001B[0m\u001B[1;33m,\u001B[0m \u001B[0mtree\u001B[0m\u001B[1;33m,\u001B[0m \u001B[0me\u001B[0m\u001B[1;33m)\u001B[0m\u001B[1;33m\u001B[0m\u001B[1;33m\u001B[0m\u001B[0m\n\u001B[0m\u001B[0;32m     98\u001B[0m \u001B[1;33m\u001B[0m\u001B[0m\n",
      "\u001B[1;31mVisitError\u001B[0m: Error trying to process rule \"single_requirement_indicator_expression\":\n\n<class 'ahbicht.expressions.hints_provider.HintsProvider'> raised an error: __init__() missing 2 required positional arguments: 'edifact_format' and 'edifact_format_version'",
      "\nDuring handling of the above exception, another exception occurred:\n",
      "\u001B[1;31mConstructorTypeError\u001B[0m                      Traceback (most recent call last)",
      "\u001B[1;32mC:\\Users\\KLEINK~1\\AppData\\Local\\Temp/ipykernel_14892/3687343501.py\u001B[0m in \u001B[0;36m<module>\u001B[1;34m\u001B[0m\n\u001B[0;32m     56\u001B[0m \u001B[1;31m# Providing the content evaluation results to find out, if a line in the AHB is actually required,\u001B[0m\u001B[1;33m\u001B[0m\u001B[1;33m\u001B[0m\u001B[1;33m\u001B[0m\u001B[0m\n\u001B[0;32m     57\u001B[0m \u001B[1;31m# is called expression evaluation\u001B[0m\u001B[1;33m\u001B[0m\u001B[1;33m\u001B[0m\u001B[1;33m\u001B[0m\u001B[0m\n\u001B[1;32m---> 58\u001B[1;33m \u001B[0mevaluate_ahb_expression_tree\u001B[0m\u001B[1;33m(\u001B[0m\u001B[0mtree\u001B[0m\u001B[1;33m,\u001B[0m \u001B[0mentered_input\u001B[0m\u001B[1;33m=\u001B[0m\u001B[1;32mNone\u001B[0m\u001B[1;33m)\u001B[0m\u001B[1;33m\u001B[0m\u001B[1;33m\u001B[0m\u001B[0m\n\u001B[0m\u001B[0;32m     59\u001B[0m \u001B[0mcontent_evaluation_results\u001B[0m \u001B[1;33m=\u001B[0m \u001B[1;33m{\u001B[0m\u001B[1;34m\"1\"\u001B[0m\u001B[1;33m}\u001B[0m\u001B[1;33m\u001B[0m\u001B[1;33m\u001B[0m\u001B[0m\n\u001B[0;32m     60\u001B[0m \u001B[1;33m\u001B[0m\u001B[0m\n",
      "\u001B[1;32mC:\\github\\ahb_condition_expression_parser\\src\\ahbicht\\expressions\\ahb_expression_evaluation.py\u001B[0m in \u001B[0;36mevaluate_ahb_expression_tree\u001B[1;34m(parsed_tree, entered_input)\u001B[0m\n\u001B[0;32m    127\u001B[0m         \u001B[0mresult\u001B[0m \u001B[1;33m=\u001B[0m \u001B[0mAhbExpressionTransformer\u001B[0m\u001B[1;33m(\u001B[0m\u001B[0mentered_input\u001B[0m\u001B[1;33m)\u001B[0m\u001B[1;33m.\u001B[0m\u001B[0mtransform\u001B[0m\u001B[1;33m(\u001B[0m\u001B[0mparsed_tree\u001B[0m\u001B[1;33m)\u001B[0m\u001B[1;33m\u001B[0m\u001B[1;33m\u001B[0m\u001B[0m\n\u001B[0;32m    128\u001B[0m     \u001B[1;32mexcept\u001B[0m \u001B[0mVisitError\u001B[0m \u001B[1;32mas\u001B[0m \u001B[0mvisit_err\u001B[0m\u001B[1;33m:\u001B[0m\u001B[1;33m\u001B[0m\u001B[1;33m\u001B[0m\u001B[0m\n\u001B[1;32m--> 129\u001B[1;33m         \u001B[1;32mraise\u001B[0m \u001B[0mvisit_err\u001B[0m\u001B[1;33m.\u001B[0m\u001B[0morig_exc\u001B[0m\u001B[1;33m\u001B[0m\u001B[1;33m\u001B[0m\u001B[0m\n\u001B[0m\u001B[0;32m    130\u001B[0m \u001B[1;33m\u001B[0m\u001B[0m\n\u001B[0;32m    131\u001B[0m     \u001B[1;32mreturn\u001B[0m \u001B[0mresult\u001B[0m\u001B[1;33m\u001B[0m\u001B[1;33m\u001B[0m\u001B[0m\n",
      "\u001B[1;32mc:\\github\\ahb_condition_expression_parser\\.tox\\dev\\lib\\site-packages\\lark\\visitors.py\u001B[0m in \u001B[0;36m_call_userfunc\u001B[1;34m(self, tree, new_children)\u001B[0m\n\u001B[0;32m     89\u001B[0m                 \u001B[0mwrapper\u001B[0m \u001B[1;33m=\u001B[0m \u001B[0mgetattr\u001B[0m\u001B[1;33m(\u001B[0m\u001B[0mf\u001B[0m\u001B[1;33m,\u001B[0m \u001B[1;34m'visit_wrapper'\u001B[0m\u001B[1;33m,\u001B[0m \u001B[1;32mNone\u001B[0m\u001B[1;33m)\u001B[0m\u001B[1;33m\u001B[0m\u001B[1;33m\u001B[0m\u001B[0m\n\u001B[0;32m     90\u001B[0m                 \u001B[1;32mif\u001B[0m \u001B[0mwrapper\u001B[0m \u001B[1;32mis\u001B[0m \u001B[1;32mnot\u001B[0m \u001B[1;32mNone\u001B[0m\u001B[1;33m:\u001B[0m\u001B[1;33m\u001B[0m\u001B[1;33m\u001B[0m\u001B[0m\n\u001B[1;32m---> 91\u001B[1;33m                     \u001B[1;32mreturn\u001B[0m \u001B[0mf\u001B[0m\u001B[1;33m.\u001B[0m\u001B[0mvisit_wrapper\u001B[0m\u001B[1;33m(\u001B[0m\u001B[0mf\u001B[0m\u001B[1;33m,\u001B[0m \u001B[0mtree\u001B[0m\u001B[1;33m.\u001B[0m\u001B[0mdata\u001B[0m\u001B[1;33m,\u001B[0m \u001B[0mchildren\u001B[0m\u001B[1;33m,\u001B[0m \u001B[0mtree\u001B[0m\u001B[1;33m.\u001B[0m\u001B[0mmeta\u001B[0m\u001B[1;33m)\u001B[0m\u001B[1;33m\u001B[0m\u001B[1;33m\u001B[0m\u001B[0m\n\u001B[0m\u001B[0;32m     92\u001B[0m                 \u001B[1;32melse\u001B[0m\u001B[1;33m:\u001B[0m\u001B[1;33m\u001B[0m\u001B[1;33m\u001B[0m\u001B[0m\n\u001B[0;32m     93\u001B[0m                     \u001B[1;32mreturn\u001B[0m \u001B[0mf\u001B[0m\u001B[1;33m(\u001B[0m\u001B[0mchildren\u001B[0m\u001B[1;33m)\u001B[0m\u001B[1;33m\u001B[0m\u001B[1;33m\u001B[0m\u001B[0m\n",
      "\u001B[1;32mc:\\github\\ahb_condition_expression_parser\\.tox\\dev\\lib\\site-packages\\lark\\visitors.py\u001B[0m in \u001B[0;36m_vargs_inline\u001B[1;34m(f, _data, children, _meta)\u001B[0m\n\u001B[0;32m    388\u001B[0m \u001B[1;33m\u001B[0m\u001B[0m\n\u001B[0;32m    389\u001B[0m \u001B[1;32mdef\u001B[0m \u001B[0m_vargs_inline\u001B[0m\u001B[1;33m(\u001B[0m\u001B[0mf\u001B[0m\u001B[1;33m,\u001B[0m \u001B[0m_data\u001B[0m\u001B[1;33m,\u001B[0m \u001B[0mchildren\u001B[0m\u001B[1;33m,\u001B[0m \u001B[0m_meta\u001B[0m\u001B[1;33m)\u001B[0m\u001B[1;33m:\u001B[0m\u001B[1;33m\u001B[0m\u001B[1;33m\u001B[0m\u001B[0m\n\u001B[1;32m--> 390\u001B[1;33m     \u001B[1;32mreturn\u001B[0m \u001B[0mf\u001B[0m\u001B[1;33m(\u001B[0m\u001B[1;33m*\u001B[0m\u001B[0mchildren\u001B[0m\u001B[1;33m)\u001B[0m\u001B[1;33m\u001B[0m\u001B[1;33m\u001B[0m\u001B[0m\n\u001B[0m\u001B[0;32m    391\u001B[0m \u001B[1;32mdef\u001B[0m \u001B[0m_vargs_meta_inline\u001B[0m\u001B[1;33m(\u001B[0m\u001B[0mf\u001B[0m\u001B[1;33m,\u001B[0m \u001B[0m_data\u001B[0m\u001B[1;33m,\u001B[0m \u001B[0mchildren\u001B[0m\u001B[1;33m,\u001B[0m \u001B[0mmeta\u001B[0m\u001B[1;33m)\u001B[0m\u001B[1;33m:\u001B[0m\u001B[1;33m\u001B[0m\u001B[1;33m\u001B[0m\u001B[0m\n\u001B[0;32m    392\u001B[0m     \u001B[1;32mreturn\u001B[0m \u001B[0mf\u001B[0m\u001B[1;33m(\u001B[0m\u001B[0mmeta\u001B[0m\u001B[1;33m,\u001B[0m \u001B[1;33m*\u001B[0m\u001B[0mchildren\u001B[0m\u001B[1;33m)\u001B[0m\u001B[1;33m\u001B[0m\u001B[1;33m\u001B[0m\u001B[0m\n",
      "\u001B[1;32mc:\\github\\ahb_condition_expression_parser\\.tox\\dev\\lib\\site-packages\\lark\\visitors.py\u001B[0m in \u001B[0;36mf\u001B[1;34m(self, *args, **kwargs)\u001B[0m\n\u001B[0;32m    372\u001B[0m         \u001B[1;32mif\u001B[0m \u001B[0mwith_self\u001B[0m\u001B[1;33m:\u001B[0m\u001B[1;33m\u001B[0m\u001B[1;33m\u001B[0m\u001B[0m\n\u001B[0;32m    373\u001B[0m             \u001B[1;32mdef\u001B[0m \u001B[0mf\u001B[0m\u001B[1;33m(\u001B[0m\u001B[0mself\u001B[0m\u001B[1;33m,\u001B[0m \u001B[1;33m*\u001B[0m\u001B[0margs\u001B[0m\u001B[1;33m,\u001B[0m \u001B[1;33m**\u001B[0m\u001B[0mkwargs\u001B[0m\u001B[1;33m)\u001B[0m\u001B[1;33m:\u001B[0m\u001B[1;33m\u001B[0m\u001B[1;33m\u001B[0m\u001B[0m\n\u001B[1;32m--> 374\u001B[1;33m                 \u001B[1;32mreturn\u001B[0m \u001B[0m_f\u001B[0m\u001B[1;33m(\u001B[0m\u001B[0mself\u001B[0m\u001B[1;33m,\u001B[0m \u001B[1;33m*\u001B[0m\u001B[0margs\u001B[0m\u001B[1;33m,\u001B[0m \u001B[1;33m**\u001B[0m\u001B[0mkwargs\u001B[0m\u001B[1;33m)\u001B[0m\u001B[1;33m\u001B[0m\u001B[1;33m\u001B[0m\u001B[0m\n\u001B[0m\u001B[0;32m    375\u001B[0m         \u001B[1;32melse\u001B[0m\u001B[1;33m:\u001B[0m\u001B[1;33m\u001B[0m\u001B[1;33m\u001B[0m\u001B[0m\n\u001B[0;32m    376\u001B[0m             \u001B[1;32mdef\u001B[0m \u001B[0mf\u001B[0m\u001B[1;33m(\u001B[0m\u001B[0mself\u001B[0m\u001B[1;33m,\u001B[0m \u001B[1;33m*\u001B[0m\u001B[0margs\u001B[0m\u001B[1;33m,\u001B[0m \u001B[1;33m**\u001B[0m\u001B[0mkwargs\u001B[0m\u001B[1;33m)\u001B[0m\u001B[1;33m:\u001B[0m\u001B[1;33m\u001B[0m\u001B[1;33m\u001B[0m\u001B[0m\n",
      "\u001B[1;32mC:\\github\\ahb_condition_expression_parser\\src\\ahbicht\\expressions\\ahb_expression_evaluation.py\u001B[0m in \u001B[0;36msingle_requirement_indicator_expression\u001B[1;34m(self, requirement_indicator, condition_expression)\u001B[0m\n\u001B[0;32m     59\u001B[0m         \"\"\"\n\u001B[0;32m     60\u001B[0m         requirement_constraint_evaluation_result: RequirementConstraintEvaluationResult = (\n\u001B[1;32m---> 61\u001B[1;33m             \u001B[0mrequirement_constraint_evaluation\u001B[0m\u001B[1;33m(\u001B[0m\u001B[0mcondition_expression\u001B[0m\u001B[1;33m)\u001B[0m\u001B[1;33m\u001B[0m\u001B[1;33m\u001B[0m\u001B[0m\n\u001B[0m\u001B[0;32m     62\u001B[0m         )\n\u001B[0;32m     63\u001B[0m         format_constraint_evaluation_result: FormatConstraintEvaluationResult = format_constraint_evaluation(\n",
      "\u001B[1;32mC:\\github\\ahb_condition_expression_parser\\src\\ahbicht\\expressions\\requirement_constraint_expression_evaluation.py\u001B[0m in \u001B[0;36mrequirement_constraint_evaluation\u001B[1;34m(condition_expression)\u001B[0m\n\u001B[0;32m    246\u001B[0m     \"\"\"\n\u001B[0;32m    247\u001B[0m \u001B[1;33m\u001B[0m\u001B[0m\n\u001B[1;32m--> 248\u001B[1;33m     \u001B[0mhints_provider\u001B[0m \u001B[1;33m=\u001B[0m \u001B[0minject\u001B[0m\u001B[1;33m.\u001B[0m\u001B[0minstance\u001B[0m\u001B[1;33m(\u001B[0m\u001B[0mHintsProvider\u001B[0m\u001B[1;33m)\u001B[0m\u001B[1;33m\u001B[0m\u001B[1;33m\u001B[0m\u001B[0m\n\u001B[0m\u001B[0;32m    249\u001B[0m     \u001B[0mrc_evaluator\u001B[0m \u001B[1;33m=\u001B[0m \u001B[0minject\u001B[0m\u001B[1;33m.\u001B[0m\u001B[0minstance\u001B[0m\u001B[1;33m(\u001B[0m\u001B[0mRcEvaluator\u001B[0m\u001B[1;33m)\u001B[0m\u001B[1;33m\u001B[0m\u001B[1;33m\u001B[0m\u001B[0m\n\u001B[0;32m    250\u001B[0m \u001B[1;33m\u001B[0m\u001B[0m\n",
      "\u001B[1;32mc:\\github\\ahb_condition_expression_parser\\.tox\\dev\\lib\\site-packages\\inject\\__init__.py\u001B[0m in \u001B[0;36minstance\u001B[1;34m(cls)\u001B[0m\n\u001B[0;32m    400\u001B[0m \u001B[1;32mdef\u001B[0m \u001B[0minstance\u001B[0m\u001B[1;33m(\u001B[0m\u001B[0mcls\u001B[0m\u001B[1;33m:\u001B[0m \u001B[0mBinding\u001B[0m\u001B[1;33m)\u001B[0m \u001B[1;33m->\u001B[0m \u001B[0mInjectable\u001B[0m\u001B[1;33m:\u001B[0m\u001B[1;33m\u001B[0m\u001B[1;33m\u001B[0m\u001B[0m\n\u001B[0;32m    401\u001B[0m     \u001B[1;34m\"\"\"Inject an instance of a class.\"\"\"\u001B[0m\u001B[1;33m\u001B[0m\u001B[1;33m\u001B[0m\u001B[0m\n\u001B[1;32m--> 402\u001B[1;33m     \u001B[1;32mreturn\u001B[0m \u001B[0mget_injector_or_die\u001B[0m\u001B[1;33m(\u001B[0m\u001B[1;33m)\u001B[0m\u001B[1;33m.\u001B[0m\u001B[0mget_instance\u001B[0m\u001B[1;33m(\u001B[0m\u001B[0mcls\u001B[0m\u001B[1;33m)\u001B[0m\u001B[1;33m\u001B[0m\u001B[1;33m\u001B[0m\u001B[0m\n\u001B[0m\u001B[0;32m    403\u001B[0m \u001B[1;33m\u001B[0m\u001B[0m\n\u001B[0;32m    404\u001B[0m \u001B[1;33m@\u001B[0m\u001B[0moverload\u001B[0m\u001B[1;33m\u001B[0m\u001B[1;33m\u001B[0m\u001B[0m\n",
      "\u001B[1;32mc:\\github\\ahb_condition_expression_parser\\.tox\\dev\\lib\\site-packages\\inject\\__init__.py\u001B[0m in \u001B[0;36mget_instance\u001B[1;34m(self, cls)\u001B[0m\n\u001B[0;32m    234\u001B[0m                 \u001B[0minstance\u001B[0m \u001B[1;33m=\u001B[0m \u001B[0mcls\u001B[0m\u001B[1;33m(\u001B[0m\u001B[1;33m)\u001B[0m\u001B[1;33m\u001B[0m\u001B[1;33m\u001B[0m\u001B[0m\n\u001B[0;32m    235\u001B[0m             \u001B[1;32mexcept\u001B[0m \u001B[0mTypeError\u001B[0m \u001B[1;32mas\u001B[0m \u001B[0mprevious_error\u001B[0m\u001B[1;33m:\u001B[0m\u001B[1;33m\u001B[0m\u001B[1;33m\u001B[0m\u001B[0m\n\u001B[1;32m--> 236\u001B[1;33m                 \u001B[1;32mraise\u001B[0m \u001B[0mConstructorTypeError\u001B[0m\u001B[1;33m(\u001B[0m\u001B[0mcls\u001B[0m\u001B[1;33m,\u001B[0m \u001B[0mprevious_error\u001B[0m\u001B[1;33m)\u001B[0m\u001B[1;33m\u001B[0m\u001B[1;33m\u001B[0m\u001B[0m\n\u001B[0m\u001B[0;32m    237\u001B[0m \u001B[1;33m\u001B[0m\u001B[0m\n\u001B[0;32m    238\u001B[0m             \u001B[0mself\u001B[0m\u001B[1;33m.\u001B[0m\u001B[0m_bindings\u001B[0m\u001B[1;33m[\u001B[0m\u001B[0mcls\u001B[0m\u001B[1;33m]\u001B[0m \u001B[1;33m=\u001B[0m \u001B[1;32mlambda\u001B[0m\u001B[1;33m:\u001B[0m \u001B[0minstance\u001B[0m\u001B[1;33m\u001B[0m\u001B[1;33m\u001B[0m\u001B[0m\n",
      "\u001B[1;31mConstructorTypeError\u001B[0m: <class 'ahbicht.expressions.hints_provider.HintsProvider'> raised an error: __init__() missing 2 required positional arguments: 'edifact_format' and 'edifact_format_version'"
     ]
    }
   ],
   "source": [
    "# As written in the README, ahbicht will _not_ do any content evaluation for you.\n",
    "# You'll need to write your own Evaluator classes for:\n",
    "# 1. Requirement Constraints (RC) for conditions which are fulfilled/unfulfilled/unknown\n",
    "# 2. Format Constraints (FC) which describe that data must obey a specified format, e.g. number of post decimal places, MaLo-ID etc.\n",
    "# 3. Hints: \"Hinweise\", plain text which is passed through\n",
    "\n",
    "\n",
    "class MyRequirementConstraintEvaluator(RcEvaluator):\n",
    "    \"\"\"\n",
    "    A Requirement Constraint (RC) Evaluator answers questions of the kind: \"Is the condition <condition_number> required?\"\n",
    "    \"\"\"\n",
    "\n",
    "    def _get_default_context(self) -> EvaluationContext:\n",
    "        # implement a default context here\n",
    "        return EvaluationContext()\n",
    "\n",
    "    # in the AHBs the conditions are unique per EDIFACT format / Message Implementation Guide\n",
    "    edifact_format = EdifactFormat.UTILMD\n",
    "    edifact_format_version = EdifactFormatVersion.FV2104  # valid since 2021-04-01\n",
    "\n",
    "    def __init__(self, evaluatable_data):\n",
    "        super().__init__(evaluatable_data=evaluatable_data)\n",
    "\n",
    "    async def evaluate_4(self, context):\n",
    "        # insert your own logic here\n",
    "        return ConditionFulfilledValue.FULFILLED\n",
    "\n",
    "    async def evaluate_5(self, context):\n",
    "        # insert your own logic here\n",
    "        return ConditionFulfilledValue.UNFULFILLED\n",
    "\n",
    "    async def evaluate_6(self, context):\n",
    "        # insert your own logic here\n",
    "        return ConditionFulfilledValue.FULFILLED\n",
    "\n",
    "\n",
    "class MyFormatConstraintEvaluator(FcEvaluator):\n",
    "    \"\"\"\n",
    "    Format Constraint (FC) Evaluator answers questions of the kind: \"Does the data provided obey format specified in condition <condition_number>?\"\n",
    "    \"\"\"\n",
    "    edifact_format = EdifactFormat.UTILMD\n",
    "    edifact_format_version = EdifactFormatVersion.FV2104  # valid since 2021-04-01\n",
    "\n",
    "    async def evaluate_950(self, entered_input):\n",
    "        \"\"\"\n",
    "        This method checks if the entered_input fulfills the constraints of condition 950.\n",
    "        This could be f.e. if entered_input is a valid OBIS, a valid Marktlokations-ID etc.\n",
    "        \"\"\"\n",
    "        # insert your own logic here\n",
    "        return EvaluatedFormatConstraint(True, None)\n",
    "\n",
    "class MyHintsProvider(HintsProvider):\n",
    "    \"\"\"\n",
    "    A Hints Provider provides plain text for given \"condition\" numbers.\n",
    "    \"\"\"\n",
    "\n",
    "\n",
    "evaluatable_data = EvaluatableData(edifact_seed=None)  # this is the data that contain the content of the edifact message\n",
    "inject.clear_and_configure(lambda binder: binder.bind(RcEvaluator, MyRequirementConstraintEvaluator(evaluatable_data=evaluatable_data)))\n",
    "inject.clear_and_configure(lambda binder: binder.bind(FcEvaluator, MyFormatConstraintEvaluator()))\n",
    "# But later on we can provide AHBicht with the content evaluation results ...\n",
    "# Providing the content evaluation results to find out, if a line in the AHB is actually required,\n",
    "# is called expression evaluation\n",
    "evaluate_ahb_expression_tree(tree, entered_input=None)\n",
    "content_evaluation_results = {\"1\"}"
   ]
  },
  {
   "cell_type": "code",
   "execution_count": null,
   "id": "9d528bf1-d6a9-46f2-bd68-21561b77636d",
   "metadata": {},
   "outputs": [],
   "source": []
  },
  {
   "cell_type": "code",
   "execution_count": null,
   "id": "f3eadc73-1576-4ed9-a1d1-e0f5806e9f03",
   "metadata": {},
   "outputs": [],
   "source": []
  },
  {
   "cell_type": "code",
   "execution_count": null,
   "id": "628c3bce-90e3-401e-b241-f4c3e306ea1e",
   "metadata": {},
   "outputs": [],
   "source": []
  },
  {
   "cell_type": "code",
   "execution_count": null,
   "id": "33ee353e-3a92-4db2-9bf3-8d3e2b514118",
   "metadata": {},
   "outputs": [],
   "source": []
  }
 ],
 "metadata": {
  "kernelspec": {
   "display_name": "Python 3 (ipykernel)",
   "language": "python",
   "name": "python3"
  },
  "language_info": {
   "codemirror_mode": {
    "name": "ipython",
    "version": 3
   },
   "file_extension": ".py",
   "mimetype": "text/x-python",
   "name": "python",
   "nbconvert_exporter": "python",
   "pygments_lexer": "ipython3",
   "version": "3.9.5"
  }
 },
 "nbformat": 4,
 "nbformat_minor": 5
}
