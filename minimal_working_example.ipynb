{
 "cells": [
  {
   "cell_type": "code",
   "execution_count": 1,
   "outputs": [],
   "source": [
    "# this is required ONLY in a Jupyter Notebook\n",
    "# otherwise you'll get a \"RuntimeError: Cannot run the event loop while another loop is running\"\n",
    "# omit this import and apply in the real code\n",
    "import nest_asyncio\n",
    "\n",
    "nest_asyncio.apply()  # can be omitted outside jupyter"
   ],
   "metadata": {
    "collapsed": false,
    "pycharm": {
     "name": "#%%\n"
    }
   }
  },
  {
   "cell_type": "code",
   "execution_count": 2,
   "outputs": [
    {
     "name": "stdout",
     "output_type": "stream",
     "text": [
      "Tree(Token('RULE', 'ahb_expression'), [Tree('single_requirement_indicator_expression', [Token('MODAL_MARK', 'Muss'), Tree('and_composition', [Tree('and_composition', [Tree(Token('RULE', 'condition_key'), [Token('INT', '2')]), Tree('then_also_composition', [Tree('or_composition', [Tree(Token('RULE', 'condition_key'), [Token('INT', '3')]), Tree(Token('RULE', 'condition_key'), [Token('INT', '4')])]), Tree(Token('RULE', 'condition_key'), [Token('INT', '901')])])]), Tree(Token('RULE', 'condition_key'), [Token('INT', '555')])])])])\n"
     ]
    },
    {
     "data": {
      "text/plain": "{'type': 'ahb_expression',\n 'children': [{'tree': {'type': 'single_requirement_indicator_expression',\n    'children': [{'tree': None,\n      'token': {'type': 'MODAL_MARK', 'value': 'Muss'}},\n     {'tree': {'type': 'and_composition',\n       'children': [{'tree': {'type': 'and_composition',\n          'children': [{'tree': {'type': 'condition_key',\n             'children': [{'tree': None,\n               'token': {'type': 'INT', 'value': '2'}}]},\n            'token': None},\n           {'tree': {'type': 'then_also_composition',\n             'children': [{'tree': {'type': 'or_composition',\n                'children': [{'tree': {'type': 'condition_key',\n                   'children': [{'tree': None,\n                     'token': {'type': 'INT', 'value': '3'}}]},\n                  'token': None},\n                 {'tree': {'type': 'condition_key',\n                   'children': [{'tree': None,\n                     'token': {'type': 'INT', 'value': '4'}}]},\n                  'token': None}]},\n               'token': None},\n              {'tree': {'type': 'condition_key',\n                'children': [{'tree': None,\n                  'token': {'type': 'INT', 'value': '901'}}]},\n               'token': None}]},\n            'token': None}]},\n         'token': None},\n        {'tree': {'type': 'condition_key',\n          'children': [{'tree': None,\n            'token': {'type': 'INT', 'value': '555'}}]},\n         'token': None}]},\n      'token': None}]},\n   'token': None}]}"
     },
     "execution_count": 2,
     "metadata": {},
     "output_type": "execute_result"
    }
   ],
   "source": [
    "from ahbicht.expressions.expression_resolver import parse_expression_including_unresolved_subexpressions\n",
    "\n",
    "tree = parse_expression_including_unresolved_subexpressions(\n",
    "    \"Muss [2] U ([3] O [4])[901] U [555]\"\n",
    ")  # the expression as you get it from the AHB\n",
    "print(tree)  # The tree is a data structure that represents the expression\n",
    "\n",
    "# you may also serialize it as a pretty large JSON object using a marshmallow schema:\n",
    "from ahbicht.json_serialization.tree_schema import TreeSchema\n",
    "\n",
    "TreeSchema().dump(tree)"
   ],
   "metadata": {
    "collapsed": false,
    "pycharm": {
     "name": "#%%\n"
    }
   }
  },
  {
   "cell_type": "code",
   "execution_count": 3,
   "outputs": [
    {
     "data": {
      "text/plain": "{'ahb_expression': [{'single_requirement_indicator_expression': ['Muss',\n    {'and_composition': [{'and_composition': ['2',\n        {'then_also_composition': [{'or_composition': ['3', '4']}, '901']}]},\n      '555']}]}]}"
     },
     "execution_count": 3,
     "metadata": {},
     "output_type": "execute_result"
    }
   ],
   "source": [
    "# Now, to be honest, this looks pretty lengthy. That's why you can serialize the tree in a more concise way using the so called \"concise schema\".\n",
    "# Note that the concise json dump is _not_ deserializable (yet). So \"concise serialization\" is a one way street so far.\n",
    "from ahbicht.json_serialization.tree_schema import ConciseTreeSchema\n",
    "\n",
    "ConciseTreeSchema().dump(tree)"
   ],
   "metadata": {
    "collapsed": false,
    "pycharm": {
     "name": "#%%\n"
    }
   }
  },
  {
   "cell_type": "code",
   "execution_count": 4,
   "outputs": [],
   "source": [
    "# As written in the README, ahbicht will _not_ do any content evaluation for you.\n",
    "# You'll need to write your own Evaluator classes for:\n",
    "# 1. Requirement Constraints (RC) for conditions which are fulfilled/unfulfilled/unknown\n",
    "# 2. Format Constraints (FC) which describe that data must obey a specified format, e.g. number of post decimal places, MaLo-ID etc.\n",
    "# 3. Hints: \"Hinweise\", plain text which is passed through"
   ],
   "metadata": {
    "collapsed": false,
    "pycharm": {
     "name": "#%%\n"
    }
   }
  },
  {
   "cell_type": "code",
   "execution_count": 5,
   "outputs": [],
   "source": [
    "from ahbicht.content_evaluation.rc_evaluators import RcEvaluator\n",
    "from ahbicht.edifact import EdifactFormat, EdifactFormatVersion\n",
    "from ahbicht.content_evaluation.evaluationdatatypes import EvaluationContext, EvaluatableData\n",
    "\n",
    "\n",
    "class MyRequirementConstraintEvaluator(RcEvaluator):\n",
    "    \"\"\"\n",
    "    A Requirement Constraint (RC) Evaluator answers questions of the kind: \"Is the condition <condition_number> fulfilled?\"\n",
    "    Any requirement constraint evaluator has to inherit from RcEvaluator.\n",
    "    \"\"\"\n",
    "\n",
    "    def _get_default_context(self) -> EvaluationContext:\n",
    "        # implement a default context here\n",
    "        return EvaluationContext(scope=None)\n",
    "\n",
    "    # in the AHBs the conditions are unique per EDIFACT format / Message Implementation Guide\n",
    "    edifact_format = EdifactFormat.UTILMD\n",
    "    edifact_format_version = EdifactFormatVersion.FV2104  # valid since 2021-04-01\n",
    "\n",
    "    def __init__(self, evaluatable_data):\n",
    "        super().__init__(evaluatable_data=evaluatable_data)\n",
    "\n",
    "    async def evaluate_2(self, context: EvaluationContext):\n",
    "        # Insert your own logic for condition \"[2]\" here.\n",
    "        # This can be an async method, which allows you to do e.g. requests to microservices or databases.\n",
    "        # The outcome of all these methods is always a so called `ConditionFulfilledValue`\n",
    "        # See the docs: https://ahbicht.readthedocs.io/en/latest/api/ahbicht.expressions.html?highlight=ConditionFulfilledValue#ahbicht.expressions.condition_nodes.ConditionFulfilledValue\n",
    "        return self.evaluatable_data.edifact_seed[\"2\"]\n",
    "\n",
    "    def evaluate_3(self, context: EvaluationContext):\n",
    "        # Insert you own logic for condition \"[3]\" here,\n",
    "        # You can also use sync methods for evaluations that don't require any lookups.\n",
    "        return self.evaluatable_data.edifact_seed[\"3\"]\n",
    "\n",
    "    async def evaluate_4(self, context: EvaluationContext):\n",
    "        # Insert your own logic for condition \"[4]\" here\n",
    "        return self.evaluatable_data.edifact_seed[\"4\"]"
   ],
   "metadata": {
    "collapsed": false,
    "pycharm": {
     "name": "#%%\n"
    }
   }
  },
  {
   "cell_type": "code",
   "execution_count": 6,
   "outputs": [],
   "source": [
    "# now we do the same thing for the format constraints\n",
    "from ahbicht.expressions.condition_nodes import ConditionFulfilledValue, EvaluatedFormatConstraint\n",
    "from ahbicht.content_evaluation.fc_evaluators import FcEvaluator\n",
    "\n",
    "\n",
    "class MyFormatConstraintEvaluator(FcEvaluator):\n",
    "    \"\"\"\n",
    "    Format Constraint (FC) Evaluator answers questions of the kind: \"Does the data provided obey format specified in condition <condition_number>?\"\n",
    "    Any format constraint evaluator has to inherit from FcEvaluator.\n",
    "    \"\"\"\n",
    "\n",
    "    edifact_format = EdifactFormat.UTILMD\n",
    "    edifact_format_version = EdifactFormatVersion.FV2104  # valid since 2021-04-01\n",
    "\n",
    "    async def evaluate_901(self, entered_input):\n",
    "        \"\"\"\n",
    "        This method checks if the entered_input fulfills the constraints of condition 901.\n",
    "        This could be f.e. if entered_input is a valid OBIS, a valid Marktlokations-ID etc.\n",
    "        For this MWE we check if the input is all lower case.\n",
    "        The methods can be either sync or async.\n",
    "        The result is always an EvaluatedFormatConstraint.\n",
    "        \"\"\"\n",
    "        # insert your own logic here\n",
    "        if entered_input[\"data\"].lower() == entered_input[\"data\"]:\n",
    "            return EvaluatedFormatConstraint(True, None)\n",
    "        return EvaluatedFormatConstraint(\n",
    "            False, f\"The input '{entered_input['data']}' does not obey format constraint 901.\"\n",
    "        )"
   ],
   "metadata": {
    "collapsed": false,
    "pycharm": {
     "name": "#%%\n"
    }
   }
  },
  {
   "cell_type": "code",
   "execution_count": 7,
   "outputs": [],
   "source": [
    "# and finally we define a hints provider\n",
    "from ahbicht.expressions.hints_provider import HintsProvider\n",
    "\n",
    "\n",
    "class MyHintsProvider(HintsProvider):\n",
    "    \"\"\"\n",
    "    A Hints Provider provides plain text for given \"condition\" numbers.\n",
    "    \"\"\"\n",
    "\n",
    "    edifact_format = EdifactFormat.UTILMD\n",
    "    edifact_format_version = EdifactFormatVersion.FV2104\n",
    "\n",
    "    async def get_hint_text(self, condition_key: str):\n",
    "        # Implement your own logic here, e.g. read the actual hint from a database or microservice\n",
    "        # (spoiler: Hochfrequenz has a public REST API that does exactly that, just drop us a line)\n",
    "        if condition_key == \"555\":\n",
    "            return \"Hinweis 555 applies.\"\n",
    "        return None"
   ],
   "metadata": {
    "collapsed": false,
    "pycharm": {
     "name": "#%%\n"
    }
   }
  },
  {
   "cell_type": "code",
   "execution_count": 8,
   "outputs": [],
   "source": [
    "# we'll just provide some hard coded data here for demonstration purposes\n",
    "hardcoded_content_evaluations = {\n",
    "    # These are the data that our dummy RC evaluator is going to return.\n",
    "    # The important thing is, that the RC evaluator has access to the message representation/data, whatever they look like.\n",
    "    \"2\": ConditionFulfilledValue.FULFILLED,\n",
    "    \"3\": ConditionFulfilledValue.UNFULFILLED,\n",
    "    \"4\": ConditionFulfilledValue.FULFILLED,\n",
    "    \"data\": \"some lower case stuff which will be checked in 901\",\n",
    "}\n",
    "\n",
    "my_evaluatable_data = EvaluatableData(\n",
    "    edifact_seed=hardcoded_content_evaluations\n",
    ")  # this is the data that, in real life, contains the content of the edifact message"
   ],
   "metadata": {
    "collapsed": false,
    "pycharm": {
     "name": "#%%\n"
    }
   }
  },
  {
   "cell_type": "code",
   "execution_count": 9,
   "outputs": [],
   "source": [
    "import inject\n",
    "from ahbicht.expressions.ahb_expression_evaluation import evaluate_ahb_expression_tree\n",
    "\n",
    "# We use dependency injection to get the evaluators in place:\n",
    "inject.clear_and_configure(\n",
    "    lambda binder: binder.bind(RcEvaluator, MyRequirementConstraintEvaluator(evaluatable_data=my_evaluatable_data))\n",
    "    .bind(FcEvaluator, MyFormatConstraintEvaluator())\n",
    "    .bind(HintsProvider, MyHintsProvider())\n",
    ")\n",
    "\n",
    "# But later on we can provide AHBicht with the content evaluation results ...\n",
    "# Providing the content evaluation results to find out, if a line in the AHB is actually required,\n",
    "# is called expression evaluation\n",
    "expression_evaluation_result = await evaluate_ahb_expression_tree(tree, entered_input=hardcoded_content_evaluations)"
   ],
   "metadata": {
    "collapsed": false,
    "pycharm": {
     "name": "#%%\n"
    }
   }
  },
  {
   "cell_type": "code",
   "execution_count": 10,
   "outputs": [
    {
     "name": "stdout",
     "output_type": "stream",
     "text": [
      "It's actually a 'MUSS'field.\n",
      "The format constraint is fulfilled => Data are ok.\n",
      "Please note the following hint: \"Hinweis 555 applies.\"\n"
     ]
    }
   ],
   "source": [
    "print(f\"It's actually a '{expression_evaluation_result.requirement_indicator}'field.\")\n",
    "if expression_evaluation_result.format_constraint_evaluation_result.format_constraints_fulfilled:\n",
    "    print(f\"The format constraint is fulfilled => Data are ok.\")\n",
    "else:\n",
    "    print(\n",
    "        f'The format constraint is _not_ fulfilled: \"{expression_evaluation_result.format_constraint_evaluation_result.error_message}\"'\n",
    "    )\n",
    "print(\n",
    "    f'Please note the following hint: \"{expression_evaluation_result.requirement_constraint_evaluation_result.hints}\"'\n",
    ")"
   ],
   "metadata": {
    "collapsed": false,
    "pycharm": {
     "name": "#%%\n"
    }
   }
  },
  {
   "cell_type": "code",
   "execution_count": 11,
   "outputs": [
    {
     "name": "stdout",
     "output_type": "stream",
     "text": [
      "AhbExpressionEvaluationResult(requirement_indicator=<ModalMark.MUSS: 'MUSS'>, requirement_constraint_evaluation_result=RequirementConstraintEvaluationResult(requirement_constraints_fulfilled=True, requirement_is_conditional=True, format_constraints_expression='[901]', hints='foo'), format_constraint_evaluation_result=FormatConstraintEvaluationResult(format_constraints_fulfilled=True, error_message=None))\n"
     ]
    }
   ],
   "source": [
    "# If writing the RcEvaluator+FcEvaluator+HintsProvider feels like overengineering for your use case, we have you covered.\n",
    "# If you already know the values of the single requirement constraints, format constraints and texts for the hint, you can just generate the Evaluator classes on the fly based on the information you have.\n",
    "from ahbicht.content_evaluation.evaluator_factory import create_and_inject_hardcoded_evaluators\n",
    "from ahbicht.content_evaluation.content_evaluation_result import ContentEvaluationResult\n",
    "\n",
    "inject.clear()\n",
    "# If you're only dealing with hard coded content evaluation results, there is a short cut to evaluate an expression:\n",
    "# 1. put the hard coded results into a so called content evaluation result:\n",
    "content_evaluation_result = ContentEvaluationResult(\n",
    "    hints={\"555\": \"foo\"},\n",
    "    format_constraints={\n",
    "        \"901\": EvaluatedFormatConstraint(format_constraint_fulfilled=True, error_message=None),\n",
    "    },\n",
    "    requirement_constraints={\n",
    "        \"2\": ConditionFulfilledValue.FULFILLED,\n",
    "        \"3\": ConditionFulfilledValue.UNFULFILLED,\n",
    "        \"4\": ConditionFulfilledValue.FULFILLED,\n",
    "    },\n",
    ")\n",
    "create_and_inject_hardcoded_evaluators(\n",
    "    content_evaluation_result\n",
    ")  # this does all the magic, no need to manually define classes\n",
    "evaluated = await evaluate_ahb_expression_tree(tree, entered_input=\"\")\n",
    "print(evaluated)"
   ],
   "metadata": {
    "collapsed": false,
    "pycharm": {
     "name": "#%%\n"
    }
   }
  },
  {
   "cell_type": "code",
   "execution_count": 12,
   "outputs": [
    {
     "name": "stdout",
     "output_type": "stream",
     "text": [
      "CategorizedKeyExtract(hint_keys=['555'], format_constraint_keys=['901'], requirement_constraint_keys=['2', '3', '4'], package_keys=[])\n"
     ]
    }
   ],
   "source": [
    "# Now, if your main application is not written in Python and you cannot/must not host AHBicht anywhere or don't want to use our public AHBicht REST API:\n",
    "# There is a simple way to pre-calculate all possible outcomes of an expression in advance:\n",
    "from ahbicht.expressions.condition_expression_parser import extract_categorized_keys\n",
    "\n",
    "categorized_key_extract = extract_categorized_keys(\"[2] U ([3] O [4])[901] U [555]\")\n",
    "print(categorized_key_extract)"
   ],
   "metadata": {
    "collapsed": false,
    "pycharm": {
     "name": "#%%\n"
    }
   }
  },
  {
   "cell_type": "code",
   "execution_count": 13,
   "outputs": [
    {
     "name": "stdout",
     "output_type": "stream",
     "text": [
      "128\n"
     ]
    }
   ],
   "source": [
    "precalculated_results = categorized_key_extract.generate_possible_content_evaluation_results()\n",
    "print(len(precalculated_results))  # <-- this contains 128 possible ContentEvaluationResults"
   ],
   "metadata": {
    "collapsed": false,
    "pycharm": {
     "name": "#%%\n"
    }
   }
  },
  {
   "cell_type": "code",
   "execution_count": 14,
   "outputs": [
    {
     "name": "stdout",
     "output_type": "stream",
     "text": [
      "[(ContentEvaluationResult(hints={'555': 'Hinweis 555'}, format_constraints={'901': EvaluatedFormatConstraint(format_constraint_fulfilled=True, error_message=None)}, requirement_constraints={'2': <ConditionFulfilledValue.FULFILLED: 'FULFILLED'>, '3': <ConditionFulfilledValue.FULFILLED: 'FULFILLED'>, '4': <ConditionFulfilledValue.FULFILLED: 'FULFILLED'>}, id=None), AhbExpressionEvaluationResult(requirement_indicator=<ModalMark.MUSS: 'MUSS'>, requirement_constraint_evaluation_result=RequirementConstraintEvaluationResult(requirement_constraints_fulfilled=True, requirement_is_conditional=True, format_constraints_expression='[901]', hints='Hinweis 555'), format_constraint_evaluation_result=FormatConstraintEvaluationResult(format_constraints_fulfilled=True, error_message=None))), (ContentEvaluationResult(hints={'555': 'Hinweis 555'}, format_constraints={'901': EvaluatedFormatConstraint(format_constraint_fulfilled=True, error_message=None)}, requirement_constraints={'2': <ConditionFulfilledValue.FULFILLED: 'FULFILLED'>, '3': <ConditionFulfilledValue.FULFILLED: 'FULFILLED'>, '4': <ConditionFulfilledValue.UNFULFILLED: 'UNFULFILLED'>}, id=None), AhbExpressionEvaluationResult(requirement_indicator=<ModalMark.MUSS: 'MUSS'>, requirement_constraint_evaluation_result=RequirementConstraintEvaluationResult(requirement_constraints_fulfilled=True, requirement_is_conditional=True, format_constraints_expression='[901]', hints='Hinweis 555'), format_constraint_evaluation_result=FormatConstraintEvaluationResult(format_constraints_fulfilled=True, error_message=None)))]\n"
     ]
    }
   ],
   "source": [
    "results = list()\n",
    "for content_evaluation_result in precalculated_results:\n",
    "    create_and_inject_hardcoded_evaluators(content_evaluation_result)\n",
    "    try:\n",
    "        expression_evaluation_result = await evaluate_ahb_expression_tree(\n",
    "            parse_expression_including_unresolved_subexpressions(expression=\"Muss [2] U ([3] O [4])[901] U [555]\"),\n",
    "            entered_input=\"\",\n",
    "        )\n",
    "    except NotImplementedError:\n",
    "        # there are cases that don't make any sense and won't occur out in the wild. These are mostly related to neutral elements where no neutral elements are expected. We can just ignore them\n",
    "        continue\n",
    "    results.append((content_evaluation_result, expression_evaluation_result))\n",
    "    # export the result with expression_evaluation_result and the content_evaluation_result and deserialize them in your non-python application\n",
    "print(results[0:2])"
   ],
   "metadata": {
    "collapsed": false,
    "pycharm": {
     "name": "#%%\n"
    }
   }
  }
 ],
 "metadata": {
  "kernelspec": {
   "display_name": "Python 3 (ipykernel)",
   "language": "python",
   "name": "python3"
  },
  "language_info": {
   "codemirror_mode": {
    "name": "ipython",
    "version": 3
   },
   "file_extension": ".py",
   "mimetype": "text/x-python",
   "name": "python",
   "nbconvert_exporter": "python",
   "pygments_lexer": "ipython3",
   "version": "3.9.5"
  }
 },
 "nbformat": 4,
 "nbformat_minor": 5
}
